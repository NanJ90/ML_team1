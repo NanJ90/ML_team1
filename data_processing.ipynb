{
 "cells": [
  {
   "cell_type": "code",
   "execution_count": 2,
   "id": "07a10e8e",
   "metadata": {},
   "outputs": [],
   "source": [
    "import csv\n",
    "import os\n",
    "\n",
    "with open('inputs.csv', 'w', newline='') as csv_file:\n",
    "    writer = csv.writer(csv_file)\n",
    "    writer.writerow([\"input\", \"category\"])\n",
    "    \n",
    "    # SQLi wordlists\n",
    "    for wf in os.listdir(\"payloads/sql\"):\n",
    "        with open(\"payloads/sql/\"+wf) as f:\n",
    "            for line in f:\n",
    "                writer.writerow([line, \"sql\"])\n",
    "\n",
    "    # XSS wordlists\n",
    "    for wf in os.listdir(\"payloads/xss\"):\n",
    "        with open(\"payloads/xss/\"+wf) as f:\n",
    "            for line in f:\n",
    "                writer.writerow([line, \"xss\"])\n",
    "\n",
    "\n",
    "    # LFI wordlists\n",
    "    for wf in os.listdir(\"payloads/lfi\"):\n",
    "        with open(\"payloads/lfi/\"+wf) as f:\n",
    "            for line in f:\n",
    "                writer.writerow([line, \"lfi\"])\n",
    "\n",
    "        \n",
    "    # Normal wordlists\n",
    "    for wf in os.listdir(\"payloads/nonmalicious\"):\n",
    "        with open(\"payloads/nonmalicious/\"+wf) as f:\n",
    "            for line in f:\n",
    "                writer.writerow([line, \"normal\"])\n",
    "\n",
    "        \n",
    "    "
   ]
  },
  {
   "cell_type": "code",
   "execution_count": null,
   "id": "93fca7a0",
   "metadata": {},
   "outputs": [],
   "source": []
  }
 ],
 "metadata": {
  "kernelspec": {
   "display_name": "Python 3 (ipykernel)",
   "language": "python",
   "name": "python3"
  },
  "language_info": {
   "codemirror_mode": {
    "name": "ipython",
    "version": 3
   },
   "file_extension": ".py",
   "mimetype": "text/x-python",
   "name": "python",
   "nbconvert_exporter": "python",
   "pygments_lexer": "ipython3",
   "version": "3.10.6"
  }
 },
 "nbformat": 4,
 "nbformat_minor": 5
}
